{
  "nbformat": 4,
  "nbformat_minor": 0,
  "metadata": {
    "accelerator": "GPU",
    "colab": {
      "name": "MNIST digit recognition Session 4.ipynb",
      "provenance": [],
      "collapsed_sections": []
    },
    "kernelspec": {
      "display_name": "Python 3",
      "name": "python3"
    },
    "language_info": {
      "name": "python"
    }
  },
  "cells": [
    {
      "cell_type": "code",
      "metadata": {
        "id": "jqrNA_iP8PLr"
      },
      "source": [
        "import pandas as pd\n",
        "import numpy as np\n",
        "\n",
        "from __future__ import print_function\n",
        "import torch\n",
        "import torch.nn as nn\n",
        "import torch.nn.functional as F\n",
        "import torch.optim as optim\n",
        "from torchvision import datasets, transforms\n",
        "from torch.optim import lr_scheduler\n",
        "from torch.autograd import Variable\n",
        "from torch.utils.data import DataLoader, Dataset\n",
        "from torchvision.utils import make_grid"
      ],
      "execution_count": null,
      "outputs": []
    },
    {
      "cell_type": "code",
      "metadata": {
        "id": "2aRKQY1C8ii5"
      },
      "source": [
        "import matplotlib.pyplot as plt\n",
        "%matplotlib inline"
      ],
      "execution_count": null,
      "outputs": []
    },
    {
      "cell_type": "markdown",
      "metadata": {
        "id": "t6vQR4Yt_QFO"
      },
      "source": [
        "# Reading MNIST data"
      ]
    },
    {
      "cell_type": "code",
      "metadata": {
        "id": "EAUtmQAS94Ig"
      },
      "source": [
        "train_data = datasets.MNIST('../data', train=True, download=True,\n",
        "                    transform=transforms.Compose([transforms.ToTensor(), transforms.Normalize((0.1307,), (0.3081,))]))\n",
        "\n",
        "test_data = datasets.MNIST('../data', train=False, download=True,\n",
        "                    transform=transforms.Compose([transforms.ToTensor(), transforms.Normalize((0.1307,), (0.3081,))]))"
      ],
      "execution_count": null,
      "outputs": []
    },
    {
      "cell_type": "code",
      "metadata": {
        "colab": {
          "base_uri": "https://localhost:8080/"
        },
        "id": "NEs3ymph-H0i",
        "outputId": "777bd4e0-b12c-4146-b383-ad97feb4d01a"
      },
      "source": [
        "n_train = len(train_data)\n",
        "n_test = len(test_data)\n",
        "\n",
        "print('Number of training samples: {0}'.format(n_train))\n",
        "print('Number of test samples: {0}'.format(n_test))"
      ],
      "execution_count": null,
      "outputs": [
        {
          "output_type": "stream",
          "text": [
            "Number of training samples: 60000\n",
            "Number of test samples: 10000\n"
          ],
          "name": "stdout"
        }
      ]
    },
    {
      "cell_type": "markdown",
      "metadata": {
        "id": "Ige0pxq5_Fw7"
      },
      "source": [
        "# Model Architecture"
      ]
    },
    {
      "cell_type": "code",
      "metadata": {
        "id": "rZqURC3aCFUf"
      },
      "source": [
        "class Net(nn.Module):\n",
        "    def __init__(self):\n",
        "        super(Net, self).__init__()\n",
        "\n",
        "        self.features = nn.Sequential(\n",
        "            nn.Conv2d(1, 16, kernel_size=3, stride=1, padding=1),\n",
        "            nn.BatchNorm2d(16),\n",
        "            nn.ReLU(inplace=True),\n",
        "            nn.Conv2d(16, 16, kernel_size=3, stride=1, padding=1),\n",
        "            nn.BatchNorm2d(16),\n",
        "            nn.ReLU(inplace=True),\n",
        "            nn.MaxPool2d(kernel_size=2, stride=2),\n",
        "            nn.Conv2d(16, 32, kernel_size=3, stride=1, padding=1),\n",
        "            nn.BatchNorm2d(32),\n",
        "            nn.ReLU(inplace=True),\n",
        "            nn.MaxPool2d(kernel_size=2, stride=2),\n",
        "            nn.Dropout(0.03),\n",
        "            nn.Conv2d(32, 32, kernel_size=3, padding=1),\n",
        "            nn.BatchNorm2d(32),\n",
        "            nn.ReLU(inplace=True),\n",
        "            nn.Dropout(0.03),\n",
        "            nn.AdaptiveMaxPool2d(1)\n",
        "        )\n",
        "\n",
        "        self.classifier = nn.Sequential(\n",
        "            nn.Linear(32, 10)\n",
        "        )\n",
        "\n",
        "    def forward(self, x):\n",
        "      x = self.features(x)\n",
        "      #x = F.adaptive_max_pool2d(x, (1, 1))\n",
        "      x = x.view(x.size(0), -1)\n",
        "      x = self.classifier(x)\n",
        "      x = F.log_softmax(x, dim=1)\n",
        "      return x"
      ],
      "execution_count": null,
      "outputs": []
    },
    {
      "cell_type": "markdown",
      "metadata": {
        "id": "7yYRcxfL-FLD"
      },
      "source": [
        "# Model Summary"
      ]
    },
    {
      "cell_type": "code",
      "metadata": {
        "colab": {
          "base_uri": "https://localhost:8080/"
        },
        "id": "rcu4v1dcCKHu",
        "outputId": "802033d0-37c0-42f7-d5e0-eaacbdb95d2f"
      },
      "source": [
        "!pip install torchsummary\n",
        "from torchsummary import summary\n",
        "use_cuda = torch.cuda.is_available()\n",
        "device = torch.device(\"cuda\" if use_cuda else \"cpu\")\n",
        "model = Net().to(device)\n",
        "summary(model, input_size=(1, 28, 28))"
      ],
      "execution_count": null,
      "outputs": [
        {
          "output_type": "stream",
          "text": [
            "Requirement already satisfied: torchsummary in /usr/local/lib/python3.7/dist-packages (1.5.1)\n",
            "----------------------------------------------------------------\n",
            "        Layer (type)               Output Shape         Param #\n",
            "================================================================\n",
            "            Conv2d-1           [-1, 16, 28, 28]             160\n",
            "       BatchNorm2d-2           [-1, 16, 28, 28]              32\n",
            "              ReLU-3           [-1, 16, 28, 28]               0\n",
            "            Conv2d-4           [-1, 16, 28, 28]           2,320\n",
            "       BatchNorm2d-5           [-1, 16, 28, 28]              32\n",
            "              ReLU-6           [-1, 16, 28, 28]               0\n",
            "         MaxPool2d-7           [-1, 16, 14, 14]               0\n",
            "            Conv2d-8           [-1, 32, 14, 14]           4,640\n",
            "       BatchNorm2d-9           [-1, 32, 14, 14]              64\n",
            "             ReLU-10           [-1, 32, 14, 14]               0\n",
            "        MaxPool2d-11             [-1, 32, 7, 7]               0\n",
            "          Dropout-12             [-1, 32, 7, 7]               0\n",
            "           Conv2d-13             [-1, 32, 7, 7]           9,248\n",
            "      BatchNorm2d-14             [-1, 32, 7, 7]              64\n",
            "             ReLU-15             [-1, 32, 7, 7]               0\n",
            "          Dropout-16             [-1, 32, 7, 7]               0\n",
            "AdaptiveMaxPool2d-17             [-1, 32, 1, 1]               0\n",
            "           Linear-18                   [-1, 10]             330\n",
            "================================================================\n",
            "Total params: 16,890\n",
            "Trainable params: 16,890\n",
            "Non-trainable params: 0\n",
            "----------------------------------------------------------------\n",
            "Input size (MB): 0.00\n",
            "Forward/backward pass size (MB): 0.81\n",
            "Params size (MB): 0.06\n",
            "Estimated Total Size (MB): 0.88\n",
            "----------------------------------------------------------------\n"
          ],
          "name": "stdout"
        }
      ]
    },
    {
      "cell_type": "markdown",
      "metadata": {
        "id": "gBEqzGwh3kF8"
      },
      "source": [
        "Convolution layers: 4 layers of 3x3  \n",
        "Batch Normalization Used  \n",
        "Dropout used: 3%  \n",
        "Total Parameters: 16890"
      ]
    },
    {
      "cell_type": "markdown",
      "metadata": {
        "id": "jnKeZnkx69Er"
      },
      "source": [
        "# Model"
      ]
    },
    {
      "cell_type": "code",
      "metadata": {
        "colab": {
          "base_uri": "https://localhost:8080/"
        },
        "id": "a2gGxR1u6taQ",
        "outputId": "1d00f23c-5b87-4fce-c728-ce27d8b4a138"
      },
      "source": [
        "model.eval()"
      ],
      "execution_count": null,
      "outputs": [
        {
          "output_type": "execute_result",
          "data": {
            "text/plain": [
              "Net(\n",
              "  (features): Sequential(\n",
              "    (0): Conv2d(1, 16, kernel_size=(3, 3), stride=(1, 1), padding=(1, 1))\n",
              "    (1): BatchNorm2d(16, eps=1e-05, momentum=0.1, affine=True, track_running_stats=True)\n",
              "    (2): ReLU(inplace=True)\n",
              "    (3): Conv2d(16, 16, kernel_size=(3, 3), stride=(1, 1), padding=(1, 1))\n",
              "    (4): BatchNorm2d(16, eps=1e-05, momentum=0.1, affine=True, track_running_stats=True)\n",
              "    (5): ReLU(inplace=True)\n",
              "    (6): MaxPool2d(kernel_size=2, stride=2, padding=0, dilation=1, ceil_mode=False)\n",
              "    (7): Conv2d(16, 32, kernel_size=(3, 3), stride=(1, 1), padding=(1, 1))\n",
              "    (8): BatchNorm2d(32, eps=1e-05, momentum=0.1, affine=True, track_running_stats=True)\n",
              "    (9): ReLU(inplace=True)\n",
              "    (10): MaxPool2d(kernel_size=2, stride=2, padding=0, dilation=1, ceil_mode=False)\n",
              "    (11): Dropout(p=0.03, inplace=False)\n",
              "    (12): Conv2d(32, 32, kernel_size=(3, 3), stride=(1, 1), padding=(1, 1))\n",
              "    (13): BatchNorm2d(32, eps=1e-05, momentum=0.1, affine=True, track_running_stats=True)\n",
              "    (14): ReLU(inplace=True)\n",
              "    (15): Dropout(p=0.03, inplace=False)\n",
              "    (16): AdaptiveMaxPool2d(output_size=1)\n",
              "  )\n",
              "  (classifier): Sequential(\n",
              "    (0): Linear(in_features=32, out_features=10, bias=True)\n",
              "  )\n",
              ")"
            ]
          },
          "metadata": {
            "tags": []
          },
          "execution_count": 78
        }
      ]
    },
    {
      "cell_type": "markdown",
      "metadata": {
        "id": "qj2B4HiW-V8t"
      },
      "source": [
        "# Data Loading ..."
      ]
    },
    {
      "cell_type": "code",
      "metadata": {
        "id": "jYFCp0hKSwBh"
      },
      "source": [
        "torch.manual_seed(1)\n",
        "batch_size = 64\n",
        "\n",
        "kwargs = {'num_workers': 1, 'pin_memory': True} if use_cuda else {}\n",
        "train_loader = torch.utils.data.DataLoader(\n",
        "    train_data, batch_size=batch_size, shuffle=True, **kwargs)\n",
        "test_loader = torch.utils.data.DataLoader(\n",
        "    test_data, batch_size=batch_size, shuffle=True, **kwargs)"
      ],
      "execution_count": null,
      "outputs": []
    },
    {
      "cell_type": "markdown",
      "metadata": {
        "id": "1PAL1z7a-ZiO"
      },
      "source": [
        "# Train Loop"
      ]
    },
    {
      "cell_type": "code",
      "metadata": {
        "id": "W84d88IDYI2E"
      },
      "source": [
        "def train(model, device, train_loader, optimizer, epoch):\n",
        "    model.train()\n",
        "    if epoch > 1:\n",
        "        exp_lr_scheduler.step()\n",
        "    epoch_loss = 0\n",
        "    correct = 0\n",
        "    \n",
        "    for batch_idx, (data, target) in enumerate(train_loader):\n",
        "        data, target = data.to(device), target.to(device)\n",
        "        optimizer.zero_grad()\n",
        "        output = model(data)\n",
        "        loss = F.nll_loss(output, target)\n",
        "        epoch_loss += loss.item()\n",
        "        loss.backward()\n",
        "        optimizer.step()\n",
        "        pred = output.argmax(dim=1, keepdim=True)  # get the index of the max log-probability\n",
        "        correct += pred.eq(target.view_as(pred)).sum().item()\n",
        "\n",
        "    print(f'Train set: Average loss: {loss.item():.4f}, Accuracy: {100. * correct/len(train_loader.dataset):.2f}')\n",
        "    train_loss = epoch_loss / len(train_loader)\n",
        "    train_acc=100.*correct/len(train_loader.dataset)\n",
        "    return train_loss, train_acc"
      ],
      "execution_count": null,
      "outputs": []
    },
    {
      "cell_type": "markdown",
      "metadata": {
        "id": "iutOWfTJ-eHu"
      },
      "source": [
        "# Test Loop"
      ]
    },
    {
      "cell_type": "code",
      "metadata": {
        "id": "zxKGXJsJoddU"
      },
      "source": [
        "def test(model, device, test_loader):\n",
        "    model.eval()\n",
        "    test_loss = 0\n",
        "    correct = 0\n",
        "    with torch.no_grad():\n",
        "        for data, target in test_loader:\n",
        "            data, target = data.to(device), target.to(device)\n",
        "            output = model(data)\n",
        "            test_loss += F.nll_loss(output, target, reduction='sum').item()  # sum up batch loss\n",
        "            pred = output.argmax(dim=1, keepdim=True)  # get the index of the max log-probability\n",
        "            correct += pred.eq(target.view_as(pred)).sum().item()\n",
        "\n",
        "    test_loss /= len(test_loader.dataset)\n",
        "    test_acc = 100.*correct/len(test_loader.dataset)\n",
        "    print(f'\\nTest set: Average loss: {test_loss:.3f}, Accuracy: {100. * correct/len(test_loader.dataset):.2f}')\n",
        "    return test_loss, test_acc"
      ],
      "execution_count": null,
      "outputs": []
    },
    {
      "cell_type": "markdown",
      "metadata": {
        "id": "1hFUq4Ii-iV0"
      },
      "source": [
        "# Defining optimizer and learning rate scheduler"
      ]
    },
    {
      "cell_type": "code",
      "metadata": {
        "id": "QJa0szuxcTRG"
      },
      "source": [
        "model = Net().to(device)\n",
        "optimizer = optim.Adam(model.parameters(), lr=0.0015)\n",
        "exp_lr_scheduler = lr_scheduler.StepLR(optimizer, step_size=7, gamma=0.1)"
      ],
      "execution_count": null,
      "outputs": []
    },
    {
      "cell_type": "markdown",
      "metadata": {
        "id": "EExDDf3f-rST"
      },
      "source": [
        "# Running the model"
      ]
    },
    {
      "cell_type": "code",
      "metadata": {
        "colab": {
          "base_uri": "https://localhost:8080/"
        },
        "id": "ZVFts7q3B4PQ",
        "outputId": "c2f82d93-4407-40ef-9cf0-81750d3eec89"
      },
      "source": [
        "train_loss_values = []\n",
        "test_loss_values = []\n",
        "\n",
        "train_acc_values = []\n",
        "test_acc_values = []\n",
        "\n",
        "for epoch in range(1, 21):\n",
        "    print('\\nEpoch {} : '.format(epoch))\n",
        "    # train the model\n",
        "    train_loss, train_acc = train(model, device, train_loader, optimizer, epoch)\n",
        "    test_loss, test_acc = test(model, device, test_loader)\n",
        "\n",
        "    train_loss_values.append(train_loss)\n",
        "    test_loss_values.append(test_loss)\n",
        "\n",
        "    train_acc_values.append(train_acc)\n",
        "    test_acc_values.append(test_acc)"
      ],
      "execution_count": null,
      "outputs": [
        {
          "output_type": "stream",
          "text": [
            "\n",
            "Epoch 1 : \n",
            "Train set: Average loss: 0.1048, Accuracy: 95.09\n",
            "\n",
            "Test set: Average loss: 0.055, Accuracy: 98.52\n",
            "\n",
            "Epoch 2 : \n",
            "Train set: Average loss: 0.0179, Accuracy: 98.60\n",
            "\n",
            "Test set: Average loss: 0.035, Accuracy: 99.04\n",
            "\n",
            "Epoch 3 : \n",
            "Train set: Average loss: 0.0167, Accuracy: 98.87\n",
            "\n",
            "Test set: Average loss: 0.029, Accuracy: 99.09\n",
            "\n",
            "Epoch 4 : \n",
            "Train set: Average loss: 0.0023, Accuracy: 99.04\n",
            "\n",
            "Test set: Average loss: 0.028, Accuracy: 99.24\n",
            "\n",
            "Epoch 5 : \n",
            "Train set: Average loss: 0.0290, Accuracy: 99.20\n",
            "\n",
            "Test set: Average loss: 0.032, Accuracy: 98.97\n",
            "\n",
            "Epoch 6 : \n",
            "Train set: Average loss: 0.0244, Accuracy: 99.31\n",
            "\n",
            "Test set: Average loss: 0.025, Accuracy: 99.19\n",
            "\n",
            "Epoch 7 : \n",
            "Train set: Average loss: 0.0169, Accuracy: 99.28\n",
            "\n",
            "Test set: Average loss: 0.026, Accuracy: 99.17\n",
            "\n",
            "Epoch 8 : \n",
            "Train set: Average loss: 0.0040, Accuracy: 99.70\n",
            "\n",
            "Test set: Average loss: 0.019, Accuracy: 99.41\n",
            "\n",
            "Epoch 9 : \n",
            "Train set: Average loss: 0.0122, Accuracy: 99.75\n",
            "\n",
            "Test set: Average loss: 0.018, Accuracy: 99.45\n",
            "\n",
            "Epoch 10 : \n",
            "Train set: Average loss: 0.0022, Accuracy: 99.81\n",
            "\n",
            "Test set: Average loss: 0.018, Accuracy: 99.40\n",
            "\n",
            "Epoch 11 : \n",
            "Train set: Average loss: 0.0019, Accuracy: 99.81\n",
            "\n",
            "Test set: Average loss: 0.017, Accuracy: 99.49\n",
            "\n",
            "Epoch 12 : \n",
            "Train set: Average loss: 0.0051, Accuracy: 99.88\n",
            "\n",
            "Test set: Average loss: 0.018, Accuracy: 99.44\n",
            "\n",
            "Epoch 13 : \n",
            "Train set: Average loss: 0.0014, Accuracy: 99.85\n",
            "\n",
            "Test set: Average loss: 0.018, Accuracy: 99.42\n",
            "\n",
            "Epoch 14 : \n",
            "Train set: Average loss: 0.0054, Accuracy: 99.86\n",
            "\n",
            "Test set: Average loss: 0.017, Accuracy: 99.48\n",
            "\n",
            "Epoch 15 : \n",
            "Train set: Average loss: 0.0002, Accuracy: 99.91\n",
            "\n",
            "Test set: Average loss: 0.017, Accuracy: 99.45\n",
            "\n",
            "Epoch 16 : \n",
            "Train set: Average loss: 0.0013, Accuracy: 99.92\n",
            "\n",
            "Test set: Average loss: 0.017, Accuracy: 99.46\n",
            "\n",
            "Epoch 17 : \n",
            "Train set: Average loss: 0.0016, Accuracy: 99.94\n",
            "\n",
            "Test set: Average loss: 0.017, Accuracy: 99.47\n",
            "\n",
            "Epoch 18 : \n",
            "Train set: Average loss: 0.0014, Accuracy: 99.93\n",
            "\n",
            "Test set: Average loss: 0.017, Accuracy: 99.48\n",
            "\n",
            "Epoch 19 : \n",
            "Train set: Average loss: 0.0074, Accuracy: 99.92\n",
            "\n",
            "Test set: Average loss: 0.017, Accuracy: 99.45\n",
            "\n",
            "Epoch 20 : \n",
            "Train set: Average loss: 0.0344, Accuracy: 99.92\n",
            "\n",
            "Test set: Average loss: 0.017, Accuracy: 99.47\n"
          ],
          "name": "stdout"
        }
      ]
    },
    {
      "cell_type": "markdown",
      "metadata": {
        "id": "10oipdea-wg1"
      },
      "source": [
        "# Plotting the train and test loss across each epoch"
      ]
    },
    {
      "cell_type": "code",
      "metadata": {
        "colab": {
          "base_uri": "https://localhost:8080/",
          "height": 393
        },
        "id": "kDXBDZP1YmDd",
        "outputId": "084f74b7-d7b4-4fef-9ba7-23e800d9adfd"
      },
      "source": [
        "import seaborn as sns\n",
        "\n",
        "# Use plot styling from seaborn.\n",
        "sns.set(style='whitegrid')\n",
        "\n",
        "# Increase the plot size and font size.\n",
        "sns.set(font_scale=1)\n",
        "plt.rcParams[\"figure.figsize\"] = (25,6)\n",
        "\n",
        "# Plot the learning curve.\n",
        "fig, (ax1,ax2) = plt.subplots(1,2)\n",
        "ax1.plot(np.array(train_loss_values), 'b-o', label=\"Training Loss\")\n",
        "ax1.plot(np.array(test_loss_values), 'g-o', label=\"Validation Loss\")\n",
        "\n",
        "# Label the plot.\n",
        "ax1.set_title(\"Training & Validation Loss\")\n",
        "ax1.set_xlabel(\"Epoch\")\n",
        "ax1.set_ylabel(\"Loss\")\n",
        "ax1.legend()\n",
        "\n",
        "ax2.plot(np.array(train_acc_values), 'b-o', label=\"Training Accuracy\")\n",
        "ax2.plot(np.array(test_acc_values), 'g-o', label=\"Validation Accuracy\")\n",
        "\n",
        "# Label the plot.\n",
        "ax2.set_title(\"Training & Validation Accuracy\")\n",
        "ax2.set_xlabel(\"Epoch\")\n",
        "ax2.set_ylabel(\"Loss\")\n",
        "ax2.legend()\n",
        "\n",
        "plt.show()"
      ],
      "execution_count": null,
      "outputs": [
        {
          "output_type": "display_data",
          "data": {
            "image/png": "[encoded data removed]",
            "text/plain": [
              "<Figure size 1800x432 with 2 Axes>"
            ]
          },
          "metadata": {
            "tags": []
          }
        }
      ]
    },
    {
      "cell_type": "markdown",
      "metadata": {
        "id": "WNZf8osw--eg"
      },
      "source": [
        "# Average Validation Loss"
      ]
    },
    {
      "cell_type": "code",
      "metadata": {
        "id": "HzArBHFgnaMi",
        "colab": {
          "base_uri": "https://localhost:8080/"
        },
        "outputId": "bad50463-ad2d-4781-b73e-d058266b261c"
      },
      "source": [
        "print(f'Average Validation loss: {test_loss:.3f}')"
      ],
      "execution_count": null,
      "outputs": [
        {
          "output_type": "stream",
          "text": [
            "Average Validation loss: 0.017\n"
          ],
          "name": "stdout"
        }
      ]
    },
    {
      "cell_type": "code",
      "metadata": {
        "id": "Ajr8yzhOTCBw"
      },
      "source": [
        ""
      ],
      "execution_count": null,
      "outputs": []
    }
  ]
}