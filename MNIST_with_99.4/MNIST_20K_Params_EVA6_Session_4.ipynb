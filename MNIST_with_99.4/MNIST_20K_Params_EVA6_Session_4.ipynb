{
  "nbformat": 4,
  "nbformat_minor": 5,
  "metadata": {
    "kernelspec": {
      "display_name": "Python 3",
      "language": "python",
      "name": "python3"
    },
    "language_info": {
      "codemirror_mode": {
        "name": "ipython",
        "version": 3
      },
      "file_extension": ".py",
      "mimetype": "text/x-python",
      "name": "python",
      "nbconvert_exporter": "python",
      "pygments_lexer": "ipython3",
      "version": "3.8.8"
    },
    "colab": {
      "name": "MNIST_20K_Params-EVA6_Session_4.ipynb",
      "provenance": []
    }
  },
  "cells": [
    {
      "cell_type": "code",
      "metadata": {
        "id": "6fad1860"
      },
      "source": [
        "from __future__ import print_function\n",
        "import torch\n",
        "import torch.nn as nn\n",
        "import torch.nn.functional as F\n",
        "import torch.optim as optim\n",
        "from torchvision import datasets, transforms\n",
        "from torchsummary import summary\n",
        "from tqdm import tqdm\n",
        "import seaborn as sns\n",
        "import matplotlib.pyplot as plt\n",
        "import numpy as np\n",
        "import warnings \n",
        "warnings.filterwarnings('ignore')"
      ],
      "id": "6fad1860",
      "execution_count": null,
      "outputs": []
    },
    {
      "cell_type": "markdown",
      "metadata": {
        "id": "42c31354"
      },
      "source": [
        "# Model Architecture"
      ],
      "id": "42c31354"
    },
    {
      "cell_type": "code",
      "metadata": {
        "id": "50cecb8b"
      },
      "source": [
        "class Net(nn.Module):\n",
        "    def __init__(self):\n",
        "        super(Net, self).__init__()\n",
        "        \n",
        "        self.conv0 = nn.Conv2d(1, 8, 3, padding=1) #input -Image size 28x28 & RF:1x1 Output RF: 3x3\n",
        "        self.bn0 = nn.BatchNorm2d(8)\n",
        "        self.conv01 = nn.Conv2d(8, 8, 3, padding=1) #input - RF:3x3 Output RF: 5x5\n",
        "        self.bn01 = nn.BatchNorm2d(8)\n",
        "        self.pool0 = nn.MaxPool2d(2, 2) #input - RF:5x5 Output RF: 10x10\n",
        "        self.drop1 = nn.Dropout(0.1)\n",
        "        \n",
        "        self.conv1 = nn.Conv2d(8, 16, 3, padding=1) #input - RF:10x10 Output RF: 12x12\n",
        "        self.bn1 = nn.BatchNorm2d(16)\n",
        "        self.conv2 = nn.Conv2d(16, 16, 3, padding=1) #input - RF:12x12 Output RF: 14x14\n",
        "        self.bn2 = nn.BatchNorm2d(16)\n",
        "        self.pool1 = nn.MaxPool2d(2, 2) #input - RF:14x14 Output RF: 28x28\n",
        "        self.drop2 = nn.Dropout(0.1)\n",
        "\n",
        "        self.conv3 = nn.Conv2d(16, 32, 3, padding=1) #input - RF:28x28 Output RF: 30x30\n",
        "        self.bn3 = nn.BatchNorm2d(32)\n",
        "        self.conv4 = nn.Conv2d(32, 32, 3, padding=1) #input - RF:30x30 Output RF: 32x32\n",
        "        self.bn4 = nn.BatchNorm2d(32)\n",
        "        self.avgpool = nn.AvgPool2d(7) #input - RF:32x32 Output RF: 38x38\n",
        "        self.drop3 = nn.Dropout(0.1)        \n",
        "\n",
        "        self.fc1 = nn.Linear(32,16)\n",
        "        self.fc2 = nn.Linear(16,10)\n",
        "\n",
        "\n",
        "    def forward(self, x):\n",
        "        x = self.pool0(self.bn01(F.relu(self.conv01(self.bn0(F.relu(self.conv0(x)))))))\n",
        "        x=self.drop1(x)\n",
        "        x = self.pool1(self.bn2(F.relu(self.conv2(self.bn1(F.relu(self.conv1(x)))))))\n",
        "        x=self.drop2(x)\n",
        "        x = self.avgpool(self.bn4(F.relu(self.conv4(self.bn3(F.relu(self.conv3(x)))))))\n",
        "        x=self.drop3(x)\n",
        "        x = x.view(-1, 32)\n",
        "        x = self.fc2(self.fc1(x))\n",
        "        return F.log_softmax(x)"
      ],
      "id": "50cecb8b",
      "execution_count": null,
      "outputs": []
    },
    {
      "cell_type": "code",
      "metadata": {
        "id": "8b641a11",
        "outputId": "2e8e79a5-706f-4b48-8320-aa16fcee91e7"
      },
      "source": [
        "use_cuda = torch.cuda.is_available()\n",
        "device = torch.device(\"cuda\" if use_cuda else \"cpu\")\n",
        "model = Net().to(device)\n",
        "print(\"Model Summary:\")\n",
        "summary(model, input_size=(1, 28, 28))\n",
        "print(\"\\n\\nModel Architecture:\\n\\n\")\n",
        "print(model)"
      ],
      "id": "8b641a11",
      "execution_count": null,
      "outputs": [
        {
          "output_type": "stream",
          "text": [
            "Model Summary:\n",
            "----------------------------------------------------------------\n",
            "        Layer (type)               Output Shape         Param #\n",
            "================================================================\n",
            "            Conv2d-1            [-1, 8, 28, 28]              80\n",
            "       BatchNorm2d-2            [-1, 8, 28, 28]              16\n",
            "            Conv2d-3            [-1, 8, 28, 28]             584\n",
            "       BatchNorm2d-4            [-1, 8, 28, 28]              16\n",
            "         MaxPool2d-5            [-1, 8, 14, 14]               0\n",
            "           Dropout-6            [-1, 8, 14, 14]               0\n",
            "            Conv2d-7           [-1, 16, 14, 14]           1,168\n",
            "       BatchNorm2d-8           [-1, 16, 14, 14]              32\n",
            "            Conv2d-9           [-1, 16, 14, 14]           2,320\n",
            "      BatchNorm2d-10           [-1, 16, 14, 14]              32\n",
            "        MaxPool2d-11             [-1, 16, 7, 7]               0\n",
            "          Dropout-12             [-1, 16, 7, 7]               0\n",
            "           Conv2d-13             [-1, 32, 7, 7]           4,640\n",
            "      BatchNorm2d-14             [-1, 32, 7, 7]              64\n",
            "           Conv2d-15             [-1, 32, 7, 7]           9,248\n",
            "      BatchNorm2d-16             [-1, 32, 7, 7]              64\n",
            "        AvgPool2d-17             [-1, 32, 1, 1]               0\n",
            "          Dropout-18             [-1, 32, 1, 1]               0\n",
            "           Linear-19                   [-1, 16]             528\n",
            "           Linear-20                   [-1, 10]             170\n",
            "================================================================\n",
            "Total params: 18,962\n",
            "Trainable params: 18,962\n",
            "Non-trainable params: 0\n",
            "----------------------------------------------------------------\n",
            "Input size (MB): 0.00\n",
            "Forward/backward pass size (MB): 0.37\n",
            "Params size (MB): 0.07\n",
            "Estimated Total Size (MB): 0.45\n",
            "----------------------------------------------------------------\n",
            "\n",
            "\n",
            "Model Architecture:\n",
            "\n",
            "\n",
            "Net(\n",
            "  (conv0): Conv2d(1, 8, kernel_size=(3, 3), stride=(1, 1), padding=(1, 1))\n",
            "  (bn0): BatchNorm2d(8, eps=1e-05, momentum=0.1, affine=True, track_running_stats=True)\n",
            "  (conv01): Conv2d(8, 8, kernel_size=(3, 3), stride=(1, 1), padding=(1, 1))\n",
            "  (bn01): BatchNorm2d(8, eps=1e-05, momentum=0.1, affine=True, track_running_stats=True)\n",
            "  (pool0): MaxPool2d(kernel_size=2, stride=2, padding=0, dilation=1, ceil_mode=False)\n",
            "  (drop1): Dropout(p=0.1, inplace=False)\n",
            "  (conv1): Conv2d(8, 16, kernel_size=(3, 3), stride=(1, 1), padding=(1, 1))\n",
            "  (bn1): BatchNorm2d(16, eps=1e-05, momentum=0.1, affine=True, track_running_stats=True)\n",
            "  (conv2): Conv2d(16, 16, kernel_size=(3, 3), stride=(1, 1), padding=(1, 1))\n",
            "  (bn2): BatchNorm2d(16, eps=1e-05, momentum=0.1, affine=True, track_running_stats=True)\n",
            "  (pool1): MaxPool2d(kernel_size=2, stride=2, padding=0, dilation=1, ceil_mode=False)\n",
            "  (drop2): Dropout(p=0.1, inplace=False)\n",
            "  (conv3): Conv2d(16, 32, kernel_size=(3, 3), stride=(1, 1), padding=(1, 1))\n",
            "  (bn3): BatchNorm2d(32, eps=1e-05, momentum=0.1, affine=True, track_running_stats=True)\n",
            "  (conv4): Conv2d(32, 32, kernel_size=(3, 3), stride=(1, 1), padding=(1, 1))\n",
            "  (bn4): BatchNorm2d(32, eps=1e-05, momentum=0.1, affine=True, track_running_stats=True)\n",
            "  (avgpool): AvgPool2d(kernel_size=7, stride=7, padding=0)\n",
            "  (drop3): Dropout(p=0.1, inplace=False)\n",
            "  (fc1): Linear(in_features=32, out_features=16, bias=True)\n",
            "  (fc2): Linear(in_features=16, out_features=10, bias=True)\n",
            ")\n"
          ],
          "name": "stdout"
        }
      ]
    },
    {
      "cell_type": "markdown",
      "metadata": {
        "id": "39eceb1a"
      },
      "source": [
        "Convolution layers: 3 blocks, with each block having 2 Conv Layers of 8, 16 and 32 kernels of size 3x3, stride=1 and padding=1  \n",
        "Batch Normalization Used  \n",
        "Dropout used: 10% at the end each of the 3 blocks  \n",
        "Global Average Pooling used to bring down the channel size from 7x7x32 to 1x1x32  \n",
        "Total Parameters: 18,962"
      ],
      "id": "39eceb1a"
    },
    {
      "cell_type": "markdown",
      "metadata": {
        "id": "1f2969b2"
      },
      "source": [
        "# Reading MNIST data"
      ],
      "id": "1f2969b2"
    },
    {
      "cell_type": "markdown",
      "metadata": {
        "id": "0395c50e"
      },
      "source": [
        "# Data Loader"
      ],
      "id": "0395c50e"
    },
    {
      "cell_type": "code",
      "metadata": {
        "id": "440957b6"
      },
      "source": [
        "torch.manual_seed(1)\n",
        "batch_size = 128\n",
        "\n",
        "kwargs = {'num_workers': 1, 'pin_memory': True} if use_cuda else {}\n",
        "train_loader = torch.utils.data.DataLoader(\n",
        "    datasets.MNIST('../data', train=True, download=True,\n",
        "                    transform=transforms.Compose([\n",
        "                        transforms.ToTensor(),\n",
        "                        transforms.Normalize((0.1307,), (0.3081,))\n",
        "                    ])),\n",
        "    batch_size=batch_size, shuffle=True, **kwargs)\n",
        "test_loader = torch.utils.data.DataLoader(\n",
        "    datasets.MNIST('../data', train=False, transform=transforms.Compose([\n",
        "                        transforms.ToTensor(),\n",
        "                        transforms.Normalize((0.1307,), (0.3081,))\n",
        "                    ])),\n",
        "    batch_size=batch_size, shuffle=True, **kwargs)"
      ],
      "id": "440957b6",
      "execution_count": null,
      "outputs": []
    },
    {
      "cell_type": "markdown",
      "metadata": {
        "id": "a61fd08f"
      },
      "source": [
        "# Train Function"
      ],
      "id": "a61fd08f"
    },
    {
      "cell_type": "code",
      "metadata": {
        "id": "79e9d46b"
      },
      "source": [
        "def train(model, device, train_loader, optimizer, epoch):\n",
        "    model.train()\n",
        "    epoch_loss = 0\n",
        "    correct = 0\n",
        "    \n",
        "    for batch_idx, (data, target) in enumerate(train_loader):\n",
        "        data, target = data.to(device), target.to(device)\n",
        "        optimizer.zero_grad()\n",
        "        output = model(data)\n",
        "        loss = F.nll_loss(output, target)\n",
        "        epoch_loss += loss.item()\n",
        "        loss.backward()\n",
        "        optimizer.step()\n",
        "        pred = output.argmax(dim=1, keepdim=True)  # get the index of the max log-probability\n",
        "        correct += pred.eq(target.view_as(pred)).sum().item()\n",
        "\n",
        "    print(f'Train set: Average loss: {loss.item():.4f}, Accuracy: {100. * correct/len(train_loader.dataset):.2f}')\n",
        "    train_loss = epoch_loss / len(train_loader)\n",
        "    train_acc=100.*correct/len(train_loader.dataset)\n",
        "    return train_loss, train_acc"
      ],
      "id": "79e9d46b",
      "execution_count": null,
      "outputs": []
    },
    {
      "cell_type": "markdown",
      "metadata": {
        "id": "0eff1a96"
      },
      "source": [
        "# Test Function"
      ],
      "id": "0eff1a96"
    },
    {
      "cell_type": "code",
      "metadata": {
        "id": "2d6f9c8a"
      },
      "source": [
        "def test(model, device, test_loader):\n",
        "    model.eval()\n",
        "    test_loss = 0\n",
        "    correct = 0\n",
        "    with torch.no_grad():\n",
        "        for data, target in test_loader:\n",
        "            data, target = data.to(device), target.to(device)\n",
        "            output = model(data)\n",
        "            test_loss += F.nll_loss(output, target, reduction='sum').item()  # sum up batch loss\n",
        "            pred = output.argmax(dim=1, keepdim=True)  # get the index of the max log-probability\n",
        "            correct += pred.eq(target.view_as(pred)).sum().item()\n",
        "\n",
        "    test_loss /= len(test_loader.dataset)\n",
        "    test_acc = 100.*correct/len(test_loader.dataset)\n",
        "    print(f'\\nTest set: Average loss: {test_loss:.3f}, Accuracy: {100. * correct/len(test_loader.dataset):.2f}')\n",
        "    return test_loss, test_acc"
      ],
      "id": "2d6f9c8a",
      "execution_count": null,
      "outputs": []
    },
    {
      "cell_type": "markdown",
      "metadata": {
        "id": "76e7ec67"
      },
      "source": [
        "# Defining optimizer and learning rate"
      ],
      "id": "76e7ec67"
    },
    {
      "cell_type": "code",
      "metadata": {
        "id": "9da8f5ae"
      },
      "source": [
        "model = Net().to(device)\n",
        "optimizer = optim.SGD(model.parameters(), lr=0.01, momentum=0.9)"
      ],
      "id": "9da8f5ae",
      "execution_count": null,
      "outputs": []
    },
    {
      "cell_type": "markdown",
      "metadata": {
        "id": "e685b1bc"
      },
      "source": [
        "# Running the model"
      ],
      "id": "e685b1bc"
    },
    {
      "cell_type": "code",
      "metadata": {
        "id": "6f7c6bbc",
        "outputId": "993f76c6-e545-44e6-f76c-40a773fe77a4"
      },
      "source": [
        "train_loss_values = []\n",
        "test_loss_values = []\n",
        "\n",
        "train_acc_values = []\n",
        "test_acc_values = []\n",
        "\n",
        "for epoch in range(1, 21):\n",
        "    print('\\nEpoch {} : '.format(epoch))\n",
        "    # train the model\n",
        "    train_loss, train_acc = train(model, device, train_loader, optimizer, epoch)\n",
        "    test_loss, test_acc = test(model, device, test_loader)\n",
        "\n",
        "    train_loss_values.append(train_loss)\n",
        "    test_loss_values.append(test_loss)\n",
        "\n",
        "    train_acc_values.append(train_acc)\n",
        "    test_acc_values.append(test_acc)"
      ],
      "id": "6f7c6bbc",
      "execution_count": null,
      "outputs": [
        {
          "output_type": "stream",
          "text": [
            "\n",
            "Epoch 1 : \n",
            "Train set: Average loss: 0.2658, Accuracy: 81.20\n",
            "\n",
            "Test set: Average loss: 0.110, Accuracy: 96.65\n",
            "\n",
            "Epoch 2 : \n",
            "Train set: Average loss: 0.0619, Accuracy: 97.35\n",
            "\n",
            "Test set: Average loss: 0.041, Accuracy: 98.66\n",
            "\n",
            "Epoch 3 : \n",
            "Train set: Average loss: 0.0540, Accuracy: 98.05\n",
            "\n",
            "Test set: Average loss: 0.039, Accuracy: 98.71\n",
            "\n",
            "Epoch 4 : \n",
            "Train set: Average loss: 0.0376, Accuracy: 98.38\n",
            "\n",
            "Test set: Average loss: 0.037, Accuracy: 98.85\n",
            "\n",
            "Epoch 5 : \n",
            "Train set: Average loss: 0.0350, Accuracy: 98.64\n",
            "\n",
            "Test set: Average loss: 0.028, Accuracy: 99.04\n",
            "\n",
            "Epoch 6 : \n",
            "Train set: Average loss: 0.0745, Accuracy: 98.72\n",
            "\n",
            "Test set: Average loss: 0.026, Accuracy: 99.14\n",
            "\n",
            "Epoch 7 : \n",
            "Train set: Average loss: 0.0307, Accuracy: 98.84\n",
            "\n",
            "Test set: Average loss: 0.025, Accuracy: 99.18\n",
            "\n",
            "Epoch 8 : \n",
            "Train set: Average loss: 0.0736, Accuracy: 98.92\n",
            "\n",
            "Test set: Average loss: 0.024, Accuracy: 99.27\n",
            "\n",
            "Epoch 9 : \n",
            "Train set: Average loss: 0.0105, Accuracy: 98.98\n",
            "\n",
            "Test set: Average loss: 0.022, Accuracy: 99.31\n",
            "\n",
            "Epoch 10 : \n",
            "Train set: Average loss: 0.0064, Accuracy: 99.05\n",
            "\n",
            "Test set: Average loss: 0.020, Accuracy: 99.39\n",
            "\n",
            "Epoch 11 : \n",
            "Train set: Average loss: 0.0446, Accuracy: 99.15\n",
            "\n",
            "Test set: Average loss: 0.023, Accuracy: 99.27\n",
            "\n",
            "Epoch 12 : \n",
            "Train set: Average loss: 0.0319, Accuracy: 99.13\n",
            "\n",
            "Test set: Average loss: 0.020, Accuracy: 99.27\n",
            "\n",
            "Epoch 13 : \n",
            "Train set: Average loss: 0.0253, Accuracy: 99.18\n",
            "\n",
            "Test set: Average loss: 0.022, Accuracy: 99.23\n",
            "\n",
            "Epoch 14 : \n",
            "Train set: Average loss: 0.0097, Accuracy: 99.28\n",
            "\n",
            "Test set: Average loss: 0.020, Accuracy: 99.39\n",
            "\n",
            "Epoch 15 : \n",
            "Train set: Average loss: 0.0032, Accuracy: 99.18\n",
            "\n",
            "Test set: Average loss: 0.021, Accuracy: 99.35\n",
            "\n",
            "Epoch 16 : \n",
            "Train set: Average loss: 0.0061, Accuracy: 99.28\n",
            "\n",
            "Test set: Average loss: 0.017, Accuracy: 99.44\n",
            "\n",
            "Epoch 17 : \n",
            "Train set: Average loss: 0.0091, Accuracy: 99.25\n",
            "\n",
            "Test set: Average loss: 0.020, Accuracy: 99.25\n",
            "\n",
            "Epoch 18 : \n",
            "Train set: Average loss: 0.0069, Accuracy: 99.28\n",
            "\n",
            "Test set: Average loss: 0.018, Accuracy: 99.42\n",
            "\n",
            "Epoch 19 : \n",
            "Train set: Average loss: 0.0429, Accuracy: 99.38\n",
            "\n",
            "Test set: Average loss: 0.019, Accuracy: 99.40\n",
            "\n",
            "Epoch 20 : \n",
            "Train set: Average loss: 0.0026, Accuracy: 99.41\n",
            "\n",
            "Test set: Average loss: 0.018, Accuracy: 99.44\n"
          ],
          "name": "stdout"
        }
      ]
    },
    {
      "cell_type": "markdown",
      "metadata": {
        "id": "57766526"
      },
      "source": [
        "# Plotting the train and test loss across each epoch"
      ],
      "id": "57766526"
    },
    {
      "cell_type": "code",
      "metadata": {
        "id": "72c0161a",
        "outputId": "3f81ddd3-966a-43fb-bd06-e34783bb6648"
      },
      "source": [
        "# Use plot styling from seaborn.\n",
        "sns.set(style='whitegrid')\n",
        "\n",
        "# Increase the plot size and font size.\n",
        "sns.set(font_scale=1)\n",
        "plt.rcParams[\"figure.figsize\"] = (25,6)\n",
        "\n",
        "# Plot the learning curve.\n",
        "fig, (ax1,ax2) = plt.subplots(1,2)\n",
        "ax1.plot(np.array(train_loss_values), 'b-o', label=\"Training Loss\")\n",
        "ax1.plot(np.array(test_loss_values), 'g-o', label=\"Validation Loss\")\n",
        "\n",
        "# Label the plot.\n",
        "ax1.set_title(\"Training & Validation Loss\")\n",
        "ax1.set_xlabel(\"Epoch\")\n",
        "ax1.set_ylabel(\"Loss\")\n",
        "ax1.legend()\n",
        "\n",
        "ax2.plot(np.array(train_acc_values), 'b-o', label=\"Training Accuracy\")\n",
        "ax2.plot(np.array(test_acc_values), 'g-o', label=\"Validation Accuracy\")\n",
        "\n",
        "# Label the plot.\n",
        "ax2.set_title(\"Training & Validation Accuracy\")\n",
        "ax2.set_xlabel(\"Epoch\")\n",
        "ax2.set_ylabel(\"Loss\")\n",
        "ax2.legend()\n",
        "\n",
        "plt.show()"
      ],
      "id": "72c0161a",
      "execution_count": null,
      "outputs": [
        {
          "output_type": "display_data",
          "data": {
            "image/png": "[encoded data removed]",
            "text/plain": [
              "<Figure size 1800x432 with 2 Axes>"
            ]
          },
          "metadata": {
            "tags": []
          }
        }
      ]
    },
    {
      "cell_type": "markdown",
      "metadata": {
        "id": "a3a6d0df"
      },
      "source": [
        "# Average Validation Loss"
      ],
      "id": "a3a6d0df"
    },
    {
      "cell_type": "code",
      "metadata": {
        "id": "7fa0f80b",
        "outputId": "95c4a171-9e91-4c55-a7fb-36b3734b5696"
      },
      "source": [
        "print(f'Average Validation loss: {test_loss:.3f}')"
      ],
      "id": "7fa0f80b",
      "execution_count": null,
      "outputs": [
        {
          "output_type": "stream",
          "text": [
            "Average Validation loss: 0.018\n"
          ],
          "name": "stdout"
        }
      ]
    }
  ]
}